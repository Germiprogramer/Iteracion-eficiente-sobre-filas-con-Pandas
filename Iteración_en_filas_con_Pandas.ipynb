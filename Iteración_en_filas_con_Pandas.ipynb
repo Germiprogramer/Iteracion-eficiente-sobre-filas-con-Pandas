{
  "nbformat": 4,
  "nbformat_minor": 0,
  "metadata": {
    "colab": {
      "provenance": []
    },
    "kernelspec": {
      "name": "python3",
      "display_name": "Python 3"
    },
    "language_info": {
      "name": "python"
    }
  },
  "cells": [
    {
      "cell_type": "code",
      "execution_count": 9,
      "metadata": {
        "id": "KYnoiXyWacmC"
      },
      "outputs": [],
      "source": [
        "import pandas as pd\n",
        "import numpy as np\n",
        "import time\n"
      ]
    },
    {
      "cell_type": "code",
      "source": [
        "df = pd.read_csv(\"Pokemon.csv\")"
      ],
      "metadata": {
        "id": "jae1lTuPfAk_"
      },
      "execution_count": 10,
      "outputs": []
    },
    {
      "cell_type": "markdown",
      "source": [
        "Iterrows"
      ],
      "metadata": {
        "id": "QsjR2Uhr_YIW"
      }
    },
    {
      "cell_type": "code",
      "source": [
        "# Registra el tiempo de inicio\n",
        "start_time = time.time()\n",
        "\n",
        "# Itera sobre la columna \"Attack\" usando iterrows()\n",
        "for index, row in df.iterrows():\n",
        "    attack_value = row['Attack']\n",
        "\n",
        "# Registra el tiempo de finalización\n",
        "end_time = time.time()\n",
        "\n",
        "# Calcula el tiempo total de ejecución\n",
        "execution_time = end_time - start_time\n",
        "\n",
        "# Imprime el tiempo total de ejecución\n",
        "print(f'Tiempo total de ejecución: {execution_time:.6f} segundos')\n",
        "\n"
      ],
      "metadata": {
        "colab": {
          "base_uri": "https://localhost:8080/"
        },
        "id": "joo9ADSR977N",
        "outputId": "ec67938f-1a4a-44dd-abb1-6b4b01a08952"
      },
      "execution_count": 11,
      "outputs": [
        {
          "output_type": "stream",
          "name": "stdout",
          "text": [
            "Tiempo total de ejecución: 0.057630 segundos\n"
          ]
        }
      ]
    },
    {
      "cell_type": "markdown",
      "source": [
        "Bucle for con .loc"
      ],
      "metadata": {
        "id": "HG5946CECyos"
      }
    },
    {
      "cell_type": "code",
      "source": [
        "# Registra el tiempo de inicio\n",
        "start_time = time.time()\n",
        "\n",
        "# Itera sobre la columna \"Attack\" usando un bucle for y df.loc\n",
        "for index in range(len(df)):\n",
        "    attack_value = df.loc[index, 'Attack']\n",
        "\n",
        "# Registra el tiempo de finalización\n",
        "end_time = time.time()\n",
        "\n",
        "# Calcula el tiempo total de ejecución\n",
        "execution_time = end_time - start_time\n",
        "\n",
        "# Imprime el tiempo total de ejecución\n",
        "print(f'Tiempo total de ejecución usando df.loc: {execution_time:.6f} segundos')\n"
      ],
      "metadata": {
        "colab": {
          "base_uri": "https://localhost:8080/"
        },
        "id": "ZpxwE_GLCeEn",
        "outputId": "1db02312-2581-499c-9861-355cf842b966"
      },
      "execution_count": 12,
      "outputs": [
        {
          "output_type": "stream",
          "name": "stdout",
          "text": [
            "Tiempo total de ejecución usando df.loc: 0.012627 segundos\n"
          ]
        }
      ]
    },
    {
      "cell_type": "markdown",
      "source": [
        "Bucle for con .iloc"
      ],
      "metadata": {
        "id": "1ufJ6ZVmC166"
      }
    },
    {
      "cell_type": "code",
      "source": [
        "# Registra el tiempo de inicio\n",
        "start_time = time.time()\n",
        "\n",
        "# Itera sobre la columna \"Attack\" usando un bucle for y df.iloc\n",
        "for index in range(len(df)):\n",
        "    attack_value = df.iloc[index]['Attack']\n",
        "\n",
        "# Registra el tiempo de finalización\n",
        "end_time = time.time()\n",
        "\n",
        "# Calcula el tiempo total de ejecución\n",
        "execution_time = end_time - start_time\n",
        "\n",
        "# Imprime el tiempo total de ejecución\n",
        "print(f'Tiempo total de ejecución usando df.iloc: {execution_time:.6f} segundos')\n"
      ],
      "metadata": {
        "colab": {
          "base_uri": "https://localhost:8080/"
        },
        "id": "5Vb9mpR9CyPX",
        "outputId": "012937db-5996-46ab-a079-a2450852017c"
      },
      "execution_count": 13,
      "outputs": [
        {
          "output_type": "stream",
          "name": "stdout",
          "text": [
            "Tiempo total de ejecución usando df.iloc: 0.068813 segundos\n"
          ]
        }
      ]
    },
    {
      "cell_type": "markdown",
      "source": [
        "Apply"
      ],
      "metadata": {
        "id": "-GiBRt_ODof0"
      }
    },
    {
      "cell_type": "code",
      "source": [
        "# Registra el tiempo de inicio\n",
        "start_time = time.time()\n",
        "\n",
        "# Define una función para aplicar a cada fila de la columna \"Attack\"\n",
        "def process_attack(row):\n",
        "    return row['Attack']\n",
        "\n",
        "# Aplica la función usando apply() en la columna \"Attack\"\n",
        "attack_values = df.apply(process_attack, axis=1)\n",
        "\n",
        "# Registra el tiempo de finalización\n",
        "end_time = time.time()\n",
        "\n",
        "# Calcula el tiempo total de ejecución\n",
        "execution_time = end_time - start_time\n",
        "\n",
        "# Imprime el tiempo total de ejecución\n",
        "print(f'Tiempo total de ejecución usando apply(): {execution_time:.6f} segundos')\n"
      ],
      "metadata": {
        "colab": {
          "base_uri": "https://localhost:8080/"
        },
        "id": "9OzKJUIsDrb_",
        "outputId": "b19f4cf8-2d97-40da-e31f-56e423d573be"
      },
      "execution_count": 14,
      "outputs": [
        {
          "output_type": "stream",
          "name": "stdout",
          "text": [
            "Tiempo total de ejecución usando apply(): 0.021352 segundos\n"
          ]
        }
      ]
    },
    {
      "cell_type": "markdown",
      "source": [
        "Itertuples"
      ],
      "metadata": {
        "id": "s0cdyzkJEELy"
      }
    },
    {
      "cell_type": "code",
      "source": [
        "# Registra el tiempo de inicio\n",
        "start_time = time.time()\n",
        "\n",
        "# Itera sobre la columna \"Attack\" usando itertuples()\n",
        "for row in df.itertuples():\n",
        "    attack_value = row.Attack\n",
        "\n",
        "# Registra el tiempo de finalización\n",
        "end_time = time.time()\n",
        "\n",
        "# Calcula el tiempo total de ejecución\n",
        "execution_time = end_time - start_time\n",
        "\n",
        "# Imprime el tiempo total de ejecución\n",
        "print(f'Tiempo total de ejecución usando itertuples(): {execution_time:.6f} segundos')\n"
      ],
      "metadata": {
        "colab": {
          "base_uri": "https://localhost:8080/"
        },
        "id": "1DFIdV9WECGP",
        "outputId": "2e1f25d6-69e9-4829-f56c-825d3e1e2172"
      },
      "execution_count": 15,
      "outputs": [
        {
          "output_type": "stream",
          "name": "stdout",
          "text": [
            "Tiempo total de ejecución usando itertuples(): 0.003226 segundos\n"
          ]
        }
      ]
    },
    {
      "cell_type": "markdown",
      "source": [
        "Comprensión de listas"
      ],
      "metadata": {
        "id": "GDQz_QMPE1jq"
      }
    },
    {
      "cell_type": "code",
      "source": [
        "# Registra el tiempo de inicio\n",
        "start_time = time.time()\n",
        "\n",
        "# Usa una comprensión de listas para iterar sobre la columna \"Attack\"\n",
        "attack_values = [row for row in df['Attack']]\n",
        "\n",
        "# Registra el tiempo de finalización\n",
        "end_time = time.time()\n",
        "\n",
        "# Calcula el tiempo total de ejecución\n",
        "execution_time = end_time - start_time\n",
        "\n",
        "# Imprime el tiempo total de ejecución\n",
        "print(f'Tiempo total de ejecución usando comprensión de listas: {execution_time:.6f} segundos')\n"
      ],
      "metadata": {
        "colab": {
          "base_uri": "https://localhost:8080/"
        },
        "id": "GuxrQfSDE0_p",
        "outputId": "94621b4e-a6fe-42d4-e358-44f3e7d2ffee"
      },
      "execution_count": 18,
      "outputs": [
        {
          "output_type": "stream",
          "name": "stdout",
          "text": [
            "Tiempo total de ejecución usando comprensión de listas: 0.000388 segundos\n"
          ]
        }
      ]
    },
    {
      "cell_type": "markdown",
      "source": [
        "numpy.nidter()"
      ],
      "metadata": {
        "id": "y98IrHlKF5ZH"
      }
    },
    {
      "cell_type": "code",
      "source": [
        "# Convierte la columna \"Attack\" en un array de NumPy\n",
        "attack_column = df['Attack'].values\n",
        "\n",
        "# Registra el tiempo de inicio\n",
        "start_time = time.time()\n",
        "\n",
        "# Itera sobre la columna \"Attack\" usando numpy.nditer()\n",
        "for attack_value in np.nditer(attack_column):\n",
        "    pass  # Realiza las operaciones necesarias aquí, si es necesario\n",
        "\n",
        "# Registra el tiempo de finalización\n",
        "end_time = time.time()\n",
        "\n",
        "# Calcula el tiempo total de ejecución\n",
        "execution_time = end_time - start_time\n",
        "\n",
        "# Imprime el tiempo total de ejecución\n",
        "print(f'Tiempo total de ejecución usando numpy.nditer(): {execution_time:.6f} segundos')\n"
      ],
      "metadata": {
        "colab": {
          "base_uri": "https://localhost:8080/"
        },
        "id": "kE4DXrA7FxF7",
        "outputId": "b4ebbb73-e77f-426b-ebaf-f8205fe70562"
      },
      "execution_count": 17,
      "outputs": [
        {
          "output_type": "stream",
          "name": "stdout",
          "text": [
            "Tiempo total de ejecución usando numpy.nditer(): 0.000310 segundos\n"
          ]
        }
      ]
    },
    {
      "cell_type": "markdown",
      "source": [
        "Iteritems"
      ],
      "metadata": {
        "id": "Pna9faHxGsaE"
      }
    },
    {
      "cell_type": "code",
      "source": [
        "# Selecciona la columna \"Attack\" del DataFrame\n",
        "attack_column = df['Attack']\n",
        "\n",
        "# Registra el tiempo de inicio\n",
        "start_time = time.time()\n",
        "\n",
        "# Itera sobre los elementos de la columna \"Attack\" usando iteritems()\n",
        "for index, attack_value in attack_column.iteritems():\n",
        "    pass  # Realiza las operaciones necesarias aquí, si es necesario\n",
        "\n",
        "# Registra el tiempo de finalización\n",
        "end_time = time.time()\n",
        "\n",
        "# Calcula el tiempo total de ejecución\n",
        "execution_time = end_time - start_time\n",
        "\n",
        "# Imprime el tiempo total de ejecución\n",
        "print(f'Tiempo total de ejecución usando iteritems(): {execution_time:.6f} segundos')\n"
      ],
      "metadata": {
        "colab": {
          "base_uri": "https://localhost:8080/"
        },
        "id": "m0zk67_rGmMh",
        "outputId": "eb206eed-a562-49c1-d08c-a6533cdb56b8"
      },
      "execution_count": 16,
      "outputs": [
        {
          "output_type": "stream",
          "name": "stdout",
          "text": [
            "Tiempo total de ejecución usando iteritems(): 0.002175 segundos\n"
          ]
        },
        {
          "output_type": "stream",
          "name": "stderr",
          "text": [
            "<ipython-input-16-dbfc18fdc97a>:8: FutureWarning: iteritems is deprecated and will be removed in a future version. Use .items instead.\n",
            "  for index, attack_value in attack_column.iteritems():\n"
          ]
        }
      ]
    },
    {
      "cell_type": "markdown",
      "source": [
        "Vectorización de pandas"
      ],
      "metadata": {
        "id": "ooQgSsWDHw77"
      }
    },
    {
      "cell_type": "code",
      "source": [
        "# Selecciona la columna \"Attack\" del DataFrame\n",
        "attack_column = df['Attack']\n",
        "\n",
        "# Registra el tiempo de inicio\n",
        "start_time = time.time()\n",
        "\n",
        "# Aplica operaciones directamente a la columna \"Attack\" usando vectorización\n",
        "# Por ejemplo, si deseas sumar 10 a cada valor de la columna \"Attack\":\n",
        "# attack_column = attack_column + 10\n",
        "\n",
        "# Realiza cualquier operación necesaria usando vectorización\n",
        "\n",
        "# Registra el tiempo de finalización\n",
        "end_time = time.time()\n",
        "\n",
        "# Calcula el tiempo total de ejecución\n",
        "execution_time = end_time - start_time\n",
        "\n",
        "# Imprime el tiempo total de ejecución\n",
        "print(f'Tiempo total de ejecución usando vectorización de Pandas: {execution_time:.6f} segundos')\n"
      ],
      "metadata": {
        "colab": {
          "base_uri": "https://localhost:8080/"
        },
        "id": "mcw5nu9kHzti",
        "outputId": "8bcd90e0-5b28-43ed-aa3d-05d73a569885"
      },
      "execution_count": 19,
      "outputs": [
        {
          "output_type": "stream",
          "name": "stdout",
          "text": [
            "Tiempo total de ejecución usando vectorización de Pandas: 0.000049 segundos\n"
          ]
        }
      ]
    },
    {
      "cell_type": "markdown",
      "source": [
        "Vectorización de numpy"
      ],
      "metadata": {
        "id": "FG9fkl7TIDna"
      }
    },
    {
      "cell_type": "code",
      "source": [
        "# Convierte la columna \"Attack\" en un array de NumPy\n",
        "attack_array = df['Attack'].values\n",
        "\n",
        "# Registra el tiempo de inicio\n",
        "start_time = time.time()\n",
        "\n",
        "# Aplica operaciones directamente al array usando vectorización de NumPy\n",
        "# Por ejemplo, si deseas sumar 10 a cada valor de la columna \"Attack\":\n",
        "# attack_array = attack_array + 10\n",
        "\n",
        "# Realiza cualquier operación necesaria usando vectorización de NumPy\n",
        "\n",
        "# Registra el tiempo de finalización\n",
        "end_time = time.time()\n",
        "\n",
        "# Calcula el tiempo total de ejecución\n",
        "execution_time = end_time - start_time\n",
        "\n",
        "# Imprime el tiempo total de ejecución\n",
        "print(f'Tiempo total de ejecución usando vectorización de NumPy: {execution_time:.6f} segundos')\n"
      ],
      "metadata": {
        "colab": {
          "base_uri": "https://localhost:8080/"
        },
        "id": "JqvvL5jnIHT4",
        "outputId": "c944dfe6-87d3-4c81-e1a6-0a168480b0a8"
      },
      "execution_count": 20,
      "outputs": [
        {
          "output_type": "stream",
          "name": "stdout",
          "text": [
            "Tiempo total de ejecución usando vectorización de NumPy: 0.000051 segundos\n"
          ]
        }
      ]
    }
  ]
}